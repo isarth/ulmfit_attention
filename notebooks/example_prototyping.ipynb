{
 "cells": [
  {
   "cell_type": "markdown",
   "metadata": {},
   "source": [
    "# Interactive prototyping\n",
    "\n",
    "This notebook is meant to demonstrate a typical setup while developing a new class.\n",
    "\n",
    "Because the whole training pipeline is modular - we can easily substitute any part of it with a new one.\n",
    "\n",
    "Because the pipeline is built from a config, we can just add the new class, declare we want to use it \n",
    "in a config, and run an experiment - all in a few lines of code. \n",
    "\n",
    "Once the class is working, it should be moved - without changes - to the appropriate Python module."
   ]
  },
  {
   "cell_type": "markdown",
   "metadata": {},
   "source": [
    "### Imports, loading a standard task"
   ]
  },
  {
   "cell_type": "code",
   "execution_count": 1,
   "metadata": {},
   "outputs": [],
   "source": [
    "from typing import *\n",
    "import json\n",
    "from pathlib import Path\n",
    "import ipdb\n",
    "import pandas as pd\n",
    "from torch import nn\n",
    "import torch.nn.functional as F\n",
    "from ulmfit_attention import scenarios\n",
    "from ulmfit_attention.aggregations import Aggregation\n",
    "from hyperspace_explorer import configurables"
   ]
  },
  {
   "cell_type": "code",
   "execution_count": 2,
   "metadata": {},
   "outputs": [],
   "source": [
    "tasks_dir = Path.cwd().resolve().parent / 'tasks'\n",
    "def load_task_conf(name):\n",
    "    return json.load((tasks_dir / f'{name}.json').open())\n",
    "task_conf = load_task_conf('imdb_1k_sample_single')\n"
   ]
  },
  {
   "cell_type": "markdown",
   "metadata": {},
   "source": [
    "### The prototype\n",
    "\n",
    "the actual code we are developing - always a class inheriting from a Configurable parent\n",
    "\n",
    "In this case it is an 'Aggregation' module - a small part of the neural network, sitting \n",
    "within the classifier head. It is responsible for taking variable-length sequences \n",
    "and aggregating them to fixed-length representations."
   ]
  },
  {
   "cell_type": "code",
   "execution_count": 3,
   "metadata": {},
   "outputs": [],
   "source": [
    "class AveragedConvolutionAggregation(Aggregation):\n",
    "    \"\"\"Just a simple example of a module, replacing `BranchingAttentionAggregation`\"\"\"\n",
    "    def __init__(self, dv: int, kernel_size: int, n_filters: int):\n",
    "        \"\"\"\n",
    "        Prepare the module\n",
    "        \n",
    "        :param dv: input dimension - calculated by other modules -> NOT A PART OF THE CONFIG\n",
    "        :param kernel_size: size of the 1d kernel\n",
    "        :param out_dim: dimensionality of the output\n",
    "        \"\"\"\n",
    "        super().__init__()\n",
    "        self.n_filters = n_filters\n",
    "        self.dv = dv\n",
    "        padding = kernel_size // 2\n",
    "        self.layer = nn.Conv1d(dv, n_filters, kernel_size, padding=padding)\n",
    "    \n",
    "    @classmethod\n",
    "    def get_default_config(self) -> Dict:\n",
    "        \"\"\"Required for every instance of Configurable\"\"\"\n",
    "        return {'kernel_size': 3}\n",
    "    \n",
    "    @property\n",
    "    def output_dim(self) -> int:\n",
    "        \"\"\"Required for every instance of Aggregation - specific to this project\"\"\"\n",
    "        return self.n_filters\n",
    "    \n",
    "    def forward(self, inp, mask):\n",
    "        x = inp.permute(0,2,1) # bs, seq_len, dv -> bs, dv, seq_len\n",
    "        x = self.layer(x)\n",
    "        x = x.permute(0,2,1)\n",
    "#         un-comment to interactively examine tensors\n",
    "#         ipdb.set_trace()\n",
    "        x = F.relu(x)\n",
    "        x.masked_fill_(mask.unsqueeze_(-1), 0)\n",
    "        x = x.mean(1)\n",
    "        return x"
   ]
  },
  {
   "cell_type": "markdown",
   "metadata": {},
   "source": [
    "### Configuration\n",
    "\n",
    "an example config for a new run; most important part: \n",
    "```\n",
    "'Aggregation': {'className': 'AveragedConvolutionAggregation'}\n",
    "```\n",
    "\n",
    "will instruct the system to use a `AveragedConvolutionAggregation` class, \n",
    "built by the `Aggregation` factory"
   ]
  },
  {
   "cell_type": "code",
   "execution_count": 4,
   "metadata": {},
   "outputs": [],
   "source": [
    "config = {\n",
    "    'Classifier': {\n",
    "        'Aggregation': {\n",
    "            'className': 'AveragedConvolutionAggregation',\n",
    "            'n_filters': 50,\n",
    "        },\n",
    "        'className': 'AggregatingClassifier',\n",
    "        'lin_ftrs': [],\n",
    "    },\n",
    "    'TrainingSchedule': {\n",
    "        'className': 'HeadOnlySchedule',\n",
    "        'cycles': 5,\n",
    "    }\n",
    "}"
   ]
  },
  {
   "cell_type": "markdown",
   "metadata": {},
   "source": [
    "### Running the experiment\n",
    "\n",
    "one caveat: if random seed is to be set, it has to be explicitly done here.\n",
    "Doing it automatically elsewhere causes problems for `Sacred`, when running\n",
    "the `hyperspace_worker`"
   ]
  },
  {
   "cell_type": "code",
   "execution_count": 5,
   "metadata": {},
   "outputs": [],
   "source": [
    "scenario = scenarios.Scenario.from_config(task_conf['Scenario'])\n",
    "config['seed'] = task_conf['seed']"
   ]
  },
  {
   "cell_type": "code",
   "execution_count": 6,
   "metadata": {
    "scrolled": false
   },
   "outputs": [
    {
     "data": {
      "text/html": [],
      "text/plain": [
       "<IPython.core.display.HTML object>"
      ]
     },
     "metadata": {},
     "output_type": "display_data"
    },
    {
     "data": {
      "text/html": [],
      "text/plain": [
       "<IPython.core.display.HTML object>"
      ]
     },
     "metadata": {},
     "output_type": "display_data"
    },
    {
     "data": {
      "text/html": [
       "<table border=\"1\" class=\"dataframe\">\n",
       "  <thead>\n",
       "    <tr style=\"text-align: left;\">\n",
       "      <th>epoch</th>\n",
       "      <th>train_loss</th>\n",
       "      <th>valid_loss</th>\n",
       "      <th>accuracy</th>\n",
       "      <th>time</th>\n",
       "    </tr>\n",
       "  </thead>\n",
       "  <tbody>\n",
       "    <tr>\n",
       "      <td>0</td>\n",
       "      <td>0.441105</td>\n",
       "      <td>#na#</td>\n",
       "      <td>00:08</td>\n",
       "    </tr>\n",
       "    <tr>\n",
       "      <td>1</td>\n",
       "      <td>0.404904</td>\n",
       "      <td>#na#</td>\n",
       "      <td>00:08</td>\n",
       "    </tr>\n",
       "    <tr>\n",
       "      <td>2</td>\n",
       "      <td>0.363094</td>\n",
       "      <td>#na#</td>\n",
       "      <td>00:07</td>\n",
       "    </tr>\n",
       "    <tr>\n",
       "      <td>3</td>\n",
       "      <td>0.321124</td>\n",
       "      <td>#na#</td>\n",
       "      <td>00:07</td>\n",
       "    </tr>\n",
       "    <tr>\n",
       "      <td>4</td>\n",
       "      <td>0.301765</td>\n",
       "      <td>#na#</td>\n",
       "      <td>00:07</td>\n",
       "    </tr>\n",
       "  </tbody>\n",
       "</table>"
      ],
      "text/plain": [
       "<IPython.core.display.HTML object>"
      ]
     },
     "metadata": {},
     "output_type": "display_data"
    },
    {
     "data": {
      "text/html": [],
      "text/plain": [
       "<IPython.core.display.HTML object>"
      ]
     },
     "metadata": {},
     "output_type": "display_data"
    }
   ],
   "source": [
    "result, learner = scenario.single_run(config)"
   ]
  },
  {
   "cell_type": "code",
   "execution_count": 7,
   "metadata": {},
   "outputs": [
    {
     "name": "stdout",
     "output_type": "stream",
     "text": [
      "0.9141200184822083\n"
     ]
    }
   ],
   "source": [
    "print(result)"
   ]
  },
  {
   "cell_type": "code",
   "execution_count": null,
   "metadata": {},
   "outputs": [],
   "source": []
  },
  {
   "cell_type": "code",
   "execution_count": null,
   "metadata": {},
   "outputs": [],
   "source": []
  },
  {
   "cell_type": "code",
   "execution_count": null,
   "metadata": {},
   "outputs": [],
   "source": []
  }
 ],
 "metadata": {
  "kernelspec": {
   "display_name": "Python [conda env:ulmfit_attention]",
   "language": "python",
   "name": "conda-env-ulmfit_attention-py"
  },
  "language_info": {
   "codemirror_mode": {
    "name": "ipython",
    "version": 3
   },
   "file_extension": ".py",
   "mimetype": "text/x-python",
   "name": "python",
   "nbconvert_exporter": "python",
   "pygments_lexer": "ipython3",
   "version": "3.7.0"
  }
 },
 "nbformat": 4,
 "nbformat_minor": 4
}
